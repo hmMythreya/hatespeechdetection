{
 "cells": [
  {
   "cell_type": "code",
   "execution_count": 1,
   "id": "b5ac5794",
   "metadata": {},
   "outputs": [],
   "source": [
    "import pandas as pd"
   ]
  },
  {
   "cell_type": "code",
   "execution_count": 2,
   "id": "8bbd4463",
   "metadata": {},
   "outputs": [],
   "source": [
    "dataset1 = pd.read_csv(r\"C:\\Users\\lones\\Desktop\\Hackathon\\english_train.tar\\english\\agr_en_train.csv\",sep=\",\")\n",
    "dataset2 = pd.read_csv(r\"C:\\Users\\lones\\Desktop\\A-Benchmark-Dataset-for-Learning-to-Intervene-in-Online-Hate-Speech-master\\data\\gab.csv\",sep=\",\")\n",
    "dataset3 = pd.read_csv(r\"C:\\Users\\lones\\Desktop\\A-Benchmark-Dataset-for-Learning-to-Intervene-in-Online-Hate-Speech-master\\data\\reddit.csv\",sep=\",\")"
   ]
  },
  {
   "cell_type": "code",
   "execution_count": 3,
   "id": "1bf975c5",
   "metadata": {},
   "outputs": [],
   "source": [
    "dataset2 = dataset2.drop(columns=[\"id\"])"
   ]
  },
  {
   "cell_type": "code",
   "execution_count": 4,
   "id": "312cd55b",
   "metadata": {},
   "outputs": [],
   "source": [
    "newdata2 = dataset2[\"response\"]"
   ]
  },
  {
   "cell_type": "code",
   "execution_count": 5,
   "id": "6aaec44b",
   "metadata": {},
   "outputs": [],
   "source": [
    "dataset2 = dataset2[\"text\"].append(newdata2,ignore_index=True)"
   ]
  },
  {
   "cell_type": "code",
   "execution_count": 6,
   "id": "a131b100",
   "metadata": {},
   "outputs": [],
   "source": [
    "df2 = pd.DataFrame(dataset2)"
   ]
  },
  {
   "cell_type": "code",
   "execution_count": 9,
   "id": "60c28a17",
   "metadata": {},
   "outputs": [],
   "source": [
    "df2.columns = [\"text\"]"
   ]
  },
  {
   "cell_type": "code",
   "execution_count": 11,
   "id": "30edae7d",
   "metadata": {},
   "outputs": [],
   "source": [
    "label2 = []\n",
    "for i in range(11826):\n",
    "    label2.append(\"1\")\n",
    "for i in range(11826,23650):\n",
    "    label2.append(\"0\")"
   ]
  },
  {
   "cell_type": "code",
   "execution_count": 12,
   "id": "51e328a8",
   "metadata": {},
   "outputs": [],
   "source": [
    "df2[\"label\"] = label2"
   ]
  },
  {
   "cell_type": "code",
   "execution_count": 13,
   "id": "c6dc5091",
   "metadata": {},
   "outputs": [],
   "source": [
    "dataset3 = dataset3.drop(columns=[\"id\"])\n",
    "newdata3 = dataset3[\"response\"]\n",
    "dataset3 = dataset3[\"text\"].append(newdata3,ignore_index=True)\n",
    "df3 = pd.DataFrame(dataset3)\n",
    "df3.columns = [\"text\"]"
   ]
  },
  {
   "cell_type": "code",
   "execution_count": 14,
   "id": "142551f2",
   "metadata": {},
   "outputs": [],
   "source": [
    "label3 = []\n",
    "for i in range(5021):\n",
    "    label3.append(\"1\")\n",
    "for i in range(5021,10040):\n",
    "    label3.append(\"0\")"
   ]
  },
  {
   "cell_type": "code",
   "execution_count": 15,
   "id": "3c275835",
   "metadata": {},
   "outputs": [],
   "source": [
    "df3[\"label\"] = label3"
   ]
  },
  {
   "cell_type": "code",
   "execution_count": 17,
   "id": "6096d955",
   "metadata": {},
   "outputs": [],
   "source": [
    "frames = [df2,df3]\n",
    "result = pd.concat(frames)"
   ]
  },
  {
   "cell_type": "code",
   "execution_count": 18,
   "id": "38b51b3b",
   "metadata": {},
   "outputs": [
    {
     "data": {
      "text/html": [
       "<div>\n",
       "<style scoped>\n",
       "    .dataframe tbody tr th:only-of-type {\n",
       "        vertical-align: middle;\n",
       "    }\n",
       "\n",
       "    .dataframe tbody tr th {\n",
       "        vertical-align: top;\n",
       "    }\n",
       "\n",
       "    .dataframe thead th {\n",
       "        text-align: right;\n",
       "    }\n",
       "</style>\n",
       "<table border=\"1\" class=\"dataframe\">\n",
       "  <thead>\n",
       "    <tr style=\"text-align: right;\">\n",
       "      <th></th>\n",
       "      <th>text</th>\n",
       "      <th>label</th>\n",
       "    </tr>\n",
       "  </thead>\n",
       "  <tbody>\n",
       "    <tr>\n",
       "      <th>0</th>\n",
       "      <td>1. i joined gab to remind myself how retarded ...</td>\n",
       "      <td>1</td>\n",
       "    </tr>\n",
       "    <tr>\n",
       "      <th>1</th>\n",
       "      <td>1. This is what the left is really scared of. ...</td>\n",
       "      <td>1</td>\n",
       "    </tr>\n",
       "    <tr>\n",
       "      <th>2</th>\n",
       "      <td>1. It makes you an asshole.\\n2. \\tGive it to a...</td>\n",
       "      <td>1</td>\n",
       "    </tr>\n",
       "    <tr>\n",
       "      <th>3</th>\n",
       "      <td>1. So they manage to provide a whole lot of da...</td>\n",
       "      <td>1</td>\n",
       "    </tr>\n",
       "    <tr>\n",
       "      <th>4</th>\n",
       "      <td>1. Hi there, i,m Keith, i hope you are doing w...</td>\n",
       "      <td>1</td>\n",
       "    </tr>\n",
       "    <tr>\n",
       "      <th>...</th>\n",
       "      <td>...</td>\n",
       "      <td>...</td>\n",
       "    </tr>\n",
       "    <tr>\n",
       "      <th>10035</th>\n",
       "      <td>['its inappropriate to use the word faggot as ...</td>\n",
       "      <td>0</td>\n",
       "    </tr>\n",
       "    <tr>\n",
       "      <th>10036</th>\n",
       "      <td>NaN</td>\n",
       "      <td>0</td>\n",
       "    </tr>\n",
       "    <tr>\n",
       "      <th>10037</th>\n",
       "      <td>[\"using the word 'nigger' is a direct attack t...</td>\n",
       "      <td>0</td>\n",
       "    </tr>\n",
       "    <tr>\n",
       "      <th>10038</th>\n",
       "      <td>[\"using the words 'faggot fuckers' is offensiv...</td>\n",
       "      <td>0</td>\n",
       "    </tr>\n",
       "    <tr>\n",
       "      <th>10039</th>\n",
       "      <td>[\"Using the word 'retard'  is offensive to the...</td>\n",
       "      <td>0</td>\n",
       "    </tr>\n",
       "  </tbody>\n",
       "</table>\n",
       "<p>33690 rows × 2 columns</p>\n",
       "</div>"
      ],
      "text/plain": [
       "                                                    text label\n",
       "0      1. i joined gab to remind myself how retarded ...     1\n",
       "1      1. This is what the left is really scared of. ...     1\n",
       "2      1. It makes you an asshole.\\n2. \\tGive it to a...     1\n",
       "3      1. So they manage to provide a whole lot of da...     1\n",
       "4      1. Hi there, i,m Keith, i hope you are doing w...     1\n",
       "...                                                  ...   ...\n",
       "10035  ['its inappropriate to use the word faggot as ...     0\n",
       "10036                                                NaN     0\n",
       "10037  [\"using the word 'nigger' is a direct attack t...     0\n",
       "10038  [\"using the words 'faggot fuckers' is offensiv...     0\n",
       "10039  [\"Using the word 'retard'  is offensive to the...     0\n",
       "\n",
       "[33690 rows x 2 columns]"
      ]
     },
     "execution_count": 18,
     "metadata": {},
     "output_type": "execute_result"
    }
   ],
   "source": [
    "result"
   ]
  },
  {
   "cell_type": "code",
   "execution_count": 19,
   "id": "0dea1a75",
   "metadata": {},
   "outputs": [],
   "source": [
    "result = result.dropna()"
   ]
  },
  {
   "cell_type": "code",
   "execution_count": 20,
   "id": "dcbec8f9",
   "metadata": {},
   "outputs": [
    {
     "data": {
      "text/html": [
       "<div>\n",
       "<style scoped>\n",
       "    .dataframe tbody tr th:only-of-type {\n",
       "        vertical-align: middle;\n",
       "    }\n",
       "\n",
       "    .dataframe tbody tr th {\n",
       "        vertical-align: top;\n",
       "    }\n",
       "\n",
       "    .dataframe thead th {\n",
       "        text-align: right;\n",
       "    }\n",
       "</style>\n",
       "<table border=\"1\" class=\"dataframe\">\n",
       "  <thead>\n",
       "    <tr style=\"text-align: right;\">\n",
       "      <th></th>\n",
       "      <th>text</th>\n",
       "      <th>label</th>\n",
       "    </tr>\n",
       "  </thead>\n",
       "  <tbody>\n",
       "    <tr>\n",
       "      <th>0</th>\n",
       "      <td>1. i joined gab to remind myself how retarded ...</td>\n",
       "      <td>1</td>\n",
       "    </tr>\n",
       "    <tr>\n",
       "      <th>1</th>\n",
       "      <td>1. This is what the left is really scared of. ...</td>\n",
       "      <td>1</td>\n",
       "    </tr>\n",
       "    <tr>\n",
       "      <th>2</th>\n",
       "      <td>1. It makes you an asshole.\\n2. \\tGive it to a...</td>\n",
       "      <td>1</td>\n",
       "    </tr>\n",
       "    <tr>\n",
       "      <th>3</th>\n",
       "      <td>1. So they manage to provide a whole lot of da...</td>\n",
       "      <td>1</td>\n",
       "    </tr>\n",
       "    <tr>\n",
       "      <th>4</th>\n",
       "      <td>1. Hi there, i,m Keith, i hope you are doing w...</td>\n",
       "      <td>1</td>\n",
       "    </tr>\n",
       "    <tr>\n",
       "      <th>...</th>\n",
       "      <td>...</td>\n",
       "      <td>...</td>\n",
       "    </tr>\n",
       "    <tr>\n",
       "      <th>10034</th>\n",
       "      <td>[\"Using hateful ableist language in your post ...</td>\n",
       "      <td>0</td>\n",
       "    </tr>\n",
       "    <tr>\n",
       "      <th>10035</th>\n",
       "      <td>['its inappropriate to use the word faggot as ...</td>\n",
       "      <td>0</td>\n",
       "    </tr>\n",
       "    <tr>\n",
       "      <th>10037</th>\n",
       "      <td>[\"using the word 'nigger' is a direct attack t...</td>\n",
       "      <td>0</td>\n",
       "    </tr>\n",
       "    <tr>\n",
       "      <th>10038</th>\n",
       "      <td>[\"using the words 'faggot fuckers' is offensiv...</td>\n",
       "      <td>0</td>\n",
       "    </tr>\n",
       "    <tr>\n",
       "      <th>10039</th>\n",
       "      <td>[\"Using the word 'retard'  is offensive to the...</td>\n",
       "      <td>0</td>\n",
       "    </tr>\n",
       "  </tbody>\n",
       "</table>\n",
       "<p>31861 rows × 2 columns</p>\n",
       "</div>"
      ],
      "text/plain": [
       "                                                    text label\n",
       "0      1. i joined gab to remind myself how retarded ...     1\n",
       "1      1. This is what the left is really scared of. ...     1\n",
       "2      1. It makes you an asshole.\\n2. \\tGive it to a...     1\n",
       "3      1. So they manage to provide a whole lot of da...     1\n",
       "4      1. Hi there, i,m Keith, i hope you are doing w...     1\n",
       "...                                                  ...   ...\n",
       "10034  [\"Using hateful ableist language in your post ...     0\n",
       "10035  ['its inappropriate to use the word faggot as ...     0\n",
       "10037  [\"using the word 'nigger' is a direct attack t...     0\n",
       "10038  [\"using the words 'faggot fuckers' is offensiv...     0\n",
       "10039  [\"Using the word 'retard'  is offensive to the...     0\n",
       "\n",
       "[31861 rows x 2 columns]"
      ]
     },
     "execution_count": 20,
     "metadata": {},
     "output_type": "execute_result"
    }
   ],
   "source": [
    "result"
   ]
  },
  {
   "cell_type": "code",
   "execution_count": null,
   "id": "61f4ab53",
   "metadata": {},
   "outputs": [],
   "source": []
  }
 ],
 "metadata": {
  "kernelspec": {
   "display_name": "Python 3",
   "language": "python",
   "name": "python3"
  },
  "language_info": {
   "codemirror_mode": {
    "name": "ipython",
    "version": 3
   },
   "file_extension": ".py",
   "mimetype": "text/x-python",
   "name": "python",
   "nbconvert_exporter": "python",
   "pygments_lexer": "ipython3",
   "version": "3.8.8"
  }
 },
 "nbformat": 4,
 "nbformat_minor": 5
}
