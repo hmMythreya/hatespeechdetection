{
 "cells": [
  {
   "cell_type": "code",
   "execution_count": 1,
   "id": "86c4f591",
   "metadata": {},
   "outputs": [],
   "source": [
    "import pandas as pd\n",
    "import numpy as np\n",
    "import sklearn\n",
    "from sklearn import linear_model\n",
    "from sklearn.utils import shuffle"
   ]
  },
  {
   "cell_type": "code",
   "execution_count": 5,
   "id": "b0dac19c",
   "metadata": {},
   "outputs": [],
   "source": [
    "data = pd.read_csv(r\"C:\\Users\\lones\\Desktop\\Hackathon\\hindi_train.tar\\hindi\\agr_hi_train.csv\",sep=\",\")\n"
   ]
  },
  {
   "cell_type": "code",
   "execution_count": 8,
   "id": "77355c28",
   "metadata": {},
   "outputs": [],
   "source": [
    "data.columns = [\"Unique_id\",\"Text\",\"Aggression-level\"]"
   ]
  },
  {
   "cell_type": "code",
   "execution_count": 12,
   "id": "d23e48a1",
   "metadata": {},
   "outputs": [
    {
     "data": {
      "text/html": [
       "<div>\n",
       "<style scoped>\n",
       "    .dataframe tbody tr th:only-of-type {\n",
       "        vertical-align: middle;\n",
       "    }\n",
       "\n",
       "    .dataframe tbody tr th {\n",
       "        vertical-align: top;\n",
       "    }\n",
       "\n",
       "    .dataframe thead th {\n",
       "        text-align: right;\n",
       "    }\n",
       "</style>\n",
       "<table border=\"1\" class=\"dataframe\">\n",
       "  <thead>\n",
       "    <tr style=\"text-align: right;\">\n",
       "      <th></th>\n",
       "      <th>Unique_id</th>\n",
       "      <th>Text</th>\n",
       "      <th>Aggression-level</th>\n",
       "    </tr>\n",
       "  </thead>\n",
       "  <tbody>\n",
       "    <tr>\n",
       "      <th>0</th>\n",
       "      <td>facebook_corpus_msr_386695</td>\n",
       "      <td>Bhai 60sal pehle desh me kya tha pehle pta kro...</td>\n",
       "      <td>CAG</td>\n",
       "    </tr>\n",
       "    <tr>\n",
       "      <th>1</th>\n",
       "      <td>facebook_corpus_msr_373389</td>\n",
       "      <td>chutiya friday ko isliye releae krte kyoki wee...</td>\n",
       "      <td>CAG</td>\n",
       "    </tr>\n",
       "    <tr>\n",
       "      <th>2</th>\n",
       "      <td>facebook_corpus_msr_917635</td>\n",
       "      <td>जय मोदीराज</td>\n",
       "      <td>CAG</td>\n",
       "    </tr>\n",
       "    <tr>\n",
       "      <th>3</th>\n",
       "      <td>facebook_corpus_msr_382517</td>\n",
       "      <td>UPA walo ne bahot kuch kr diya tha desh k liye</td>\n",
       "      <td>CAG</td>\n",
       "    </tr>\n",
       "    <tr>\n",
       "      <th>4</th>\n",
       "      <td>facebook_corpus_msr_403274</td>\n",
       "      <td>Pan ko Aadhar se link ki zarurat kuy hai? Supr...</td>\n",
       "      <td>CAG</td>\n",
       "    </tr>\n",
       "  </tbody>\n",
       "</table>\n",
       "</div>"
      ],
      "text/plain": [
       "                    Unique_id  \\\n",
       "0  facebook_corpus_msr_386695   \n",
       "1  facebook_corpus_msr_373389   \n",
       "2  facebook_corpus_msr_917635   \n",
       "3  facebook_corpus_msr_382517   \n",
       "4  facebook_corpus_msr_403274   \n",
       "\n",
       "                                                Text Aggression-level  \n",
       "0  Bhai 60sal pehle desh me kya tha pehle pta kro...              CAG  \n",
       "1  chutiya friday ko isliye releae krte kyoki wee...              CAG  \n",
       "2                                         जय मोदीराज              CAG  \n",
       "3     UPA walo ne bahot kuch kr diya tha desh k liye              CAG  \n",
       "4  Pan ko Aadhar se link ki zarurat kuy hai? Supr...              CAG  "
      ]
     },
     "execution_count": 12,
     "metadata": {},
     "output_type": "execute_result"
    }
   ],
   "source": [
    "data.head()"
   ]
  },
  {
   "cell_type": "code",
   "execution_count": 13,
   "id": "c2584102",
   "metadata": {},
   "outputs": [],
   "source": [
    "del data[\"Unique_id\"]"
   ]
  },
  {
   "cell_type": "code",
   "execution_count": 15,
   "id": "2fd7968b",
   "metadata": {},
   "outputs": [],
   "source": [
    "predict = \"Aggression-level\"\n",
    "\n",
    "X = np.array(data.drop([predict],1))\n",
    "Y = np.array(data[predict])"
   ]
  },
  {
   "cell_type": "code",
   "execution_count": null,
   "id": "91e3683a",
   "metadata": {},
   "outputs": [],
   "source": []
  }
 ],
 "metadata": {
  "kernelspec": {
   "display_name": "Python 3",
   "language": "python",
   "name": "python3"
  },
  "language_info": {
   "codemirror_mode": {
    "name": "ipython",
    "version": 3
   },
   "file_extension": ".py",
   "mimetype": "text/x-python",
   "name": "python",
   "nbconvert_exporter": "python",
   "pygments_lexer": "ipython3",
   "version": "3.8.8"
  }
 },
 "nbformat": 4,
 "nbformat_minor": 5
}
