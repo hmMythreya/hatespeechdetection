{
 "cells": [
  {
   "cell_type": "code",
   "execution_count": 8,
   "id": "86c4f591",
   "metadata": {},
   "outputs": [],
   "source": [
    "import pandas as pd\n",
    "import numpy as np\n",
    "import sklearn\n",
    "from sklearn import linear_model\n",
    "from sklearn.utils import shuffle"
   ]
  },
  {
   "cell_type": "code",
   "execution_count": 9,
   "id": "b0dac19c",
   "metadata": {},
   "outputs": [],
   "source": [
    "data = pd.read_csv(r\"C:\\Users\\lones\\Desktop\\agr_hi_train.csv\",sep=\",\")"
   ]
  },
  {
   "cell_type": "code",
   "execution_count": 10,
   "id": "3fb1dd33",
   "metadata": {},
   "outputs": [],
   "source": [
    "data.columns = [\"Unique_id\",\"Text\",\"Aggression-level\"]"
   ]
  },
  {
   "cell_type": "code",
   "execution_count": 11,
   "id": "c009c51b",
   "metadata": {},
   "outputs": [],
   "source": [
    "del data[\"Unique_id\"]"
   ]
  },
  {
   "cell_type": "code",
   "execution_count": 12,
   "id": "36279d6c",
   "metadata": {},
   "outputs": [],
   "source": [
    "#finalDF = pd.DataFrame()\n",
    "finalDF = data[0:0]\n",
    "finalDF[\"Text\"] = data[\"Text\"]\n",
    "finalDF[\"Aggression-level\"] = data[\"Aggression-level\"].replace({\"CAG\":1,\"OAG\":1,\"NAG\":0})"
   ]
  },
  {
   "cell_type": "code",
   "execution_count": 13,
   "id": "351b690c",
   "metadata": {},
   "outputs": [
    {
     "data": {
      "text/html": [
       "<div>\n",
       "<style scoped>\n",
       "    .dataframe tbody tr th:only-of-type {\n",
       "        vertical-align: middle;\n",
       "    }\n",
       "\n",
       "    .dataframe tbody tr th {\n",
       "        vertical-align: top;\n",
       "    }\n",
       "\n",
       "    .dataframe thead th {\n",
       "        text-align: right;\n",
       "    }\n",
       "</style>\n",
       "<table border=\"1\" class=\"dataframe\">\n",
       "  <thead>\n",
       "    <tr style=\"text-align: right;\">\n",
       "      <th></th>\n",
       "      <th>Text</th>\n",
       "      <th>Aggression-level</th>\n",
       "    </tr>\n",
       "  </thead>\n",
       "  <tbody>\n",
       "    <tr>\n",
       "      <th>0</th>\n",
       "      <td>Bhai 60sal pehle desh me kya tha pehle pta kro...</td>\n",
       "      <td>1</td>\n",
       "    </tr>\n",
       "    <tr>\n",
       "      <th>1</th>\n",
       "      <td>chutiya friday ko isliye releae krte kyoki wee...</td>\n",
       "      <td>1</td>\n",
       "    </tr>\n",
       "    <tr>\n",
       "      <th>2</th>\n",
       "      <td>जय मोदीराज</td>\n",
       "      <td>1</td>\n",
       "    </tr>\n",
       "    <tr>\n",
       "      <th>3</th>\n",
       "      <td>UPA walo ne bahot kuch kr diya tha desh k liye</td>\n",
       "      <td>1</td>\n",
       "    </tr>\n",
       "    <tr>\n",
       "      <th>4</th>\n",
       "      <td>Pan ko Aadhar se link ki zarurat kuy hai? Supr...</td>\n",
       "      <td>1</td>\n",
       "    </tr>\n",
       "    <tr>\n",
       "      <th>...</th>\n",
       "      <td>...</td>\n",
       "      <td>...</td>\n",
       "    </tr>\n",
       "    <tr>\n",
       "      <th>11994</th>\n",
       "      <td>अगला लोकसभा चुनाव केवल 2 पार्टियाँ लड़ेंगी ।\\nए...</td>\n",
       "      <td>1</td>\n",
       "    </tr>\n",
       "    <tr>\n",
       "      <th>11995</th>\n",
       "      <td>Kisi dushre desho ki soldier k sar katke lana ...</td>\n",
       "      <td>1</td>\n",
       "    </tr>\n",
       "    <tr>\n",
       "      <th>11996</th>\n",
       "      <td>Kyoki wo Hindu h</td>\n",
       "      <td>1</td>\n",
       "    </tr>\n",
       "    <tr>\n",
       "      <th>11997</th>\n",
       "      <td>mileage ki tension na lo, India me 40 k upar n...</td>\n",
       "      <td>0</td>\n",
       "    </tr>\n",
       "    <tr>\n",
       "      <th>11998</th>\n",
       "      <td>Gulamo Ki baat ka bura nahi mantey Bhai Log......</td>\n",
       "      <td>1</td>\n",
       "    </tr>\n",
       "  </tbody>\n",
       "</table>\n",
       "<p>11999 rows × 2 columns</p>\n",
       "</div>"
      ],
      "text/plain": [
       "                                                    Text  Aggression-level\n",
       "0      Bhai 60sal pehle desh me kya tha pehle pta kro...                 1\n",
       "1      chutiya friday ko isliye releae krte kyoki wee...                 1\n",
       "2                                             जय मोदीराज                 1\n",
       "3         UPA walo ne bahot kuch kr diya tha desh k liye                 1\n",
       "4      Pan ko Aadhar se link ki zarurat kuy hai? Supr...                 1\n",
       "...                                                  ...               ...\n",
       "11994  अगला लोकसभा चुनाव केवल 2 पार्टियाँ लड़ेंगी ।\\nए...                 1\n",
       "11995  Kisi dushre desho ki soldier k sar katke lana ...                 1\n",
       "11996                                   Kyoki wo Hindu h                 1\n",
       "11997  mileage ki tension na lo, India me 40 k upar n...                 0\n",
       "11998  Gulamo Ki baat ka bura nahi mantey Bhai Log......                 1\n",
       "\n",
       "[11999 rows x 2 columns]"
      ]
     },
     "execution_count": 13,
     "metadata": {},
     "output_type": "execute_result"
    }
   ],
   "source": [
    "finalDF"
   ]
  },
  {
   "cell_type": "code",
   "execution_count": 14,
   "id": "058e6796",
   "metadata": {},
   "outputs": [],
   "source": [
    "finalDF.to_csv(\"Hinglish.csv\")"
   ]
  },
  {
   "cell_type": "code",
   "execution_count": null,
   "id": "d3a8b2ba",
   "metadata": {},
   "outputs": [],
   "source": []
  }
 ],
 "metadata": {
  "kernelspec": {
   "display_name": "Python 3",
   "language": "python",
   "name": "python3"
  },
  "language_info": {
   "codemirror_mode": {
    "name": "ipython",
    "version": 3
   },
   "file_extension": ".py",
   "mimetype": "text/x-python",
   "name": "python",
   "nbconvert_exporter": "python",
   "pygments_lexer": "ipython3",
   "version": "3.8.8"
  }
 },
 "nbformat": 4,
 "nbformat_minor": 5
}
