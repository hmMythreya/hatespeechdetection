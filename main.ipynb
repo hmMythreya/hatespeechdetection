{
  "cells": [
    {
      "cell_type": "code",
      "execution_count": null,
      "id": "555c13b2",
      "metadata": {
        "id": "555c13b2"
      },
      "outputs": [],
      "source": [
        "from sklearn import linear_model\n",
        "from sklearn import naive_bayes\n",
        "from sklearn import ensemble\n",
        "from sklearn import tree\n",
        "import pandas as pd\n",
        "import numpy as np\n",
        "from sklearn.feature_extraction.text import TfidfVectorizer"
      ]
    },
    {
      "cell_type": "code",
      "execution_count": null,
      "id": "237337ff",
      "metadata": {
        "id": "237337ff"
      },
      "outputs": [],
      "source": [
        "df = pd.DataFrame(pd.read_csv(\"40k_modified.csv\"))"
      ]
    },
    {
      "cell_type": "code",
      "execution_count": null,
      "id": "1818733b",
      "metadata": {
        "id": "1818733b"
      },
      "outputs": [],
      "source": [
        "df.columns = [\"ind\",\"text\",\"label\"]"
      ]
    },
    {
      "cell_type": "code",
      "execution_count": null,
      "id": "3abcc71e",
      "metadata": {
        "id": "3abcc71e"
      },
      "outputs": [],
      "source": [
        "df = df.drop(columns=[\"ind\"])"
      ]
    },
    {
      "cell_type": "code",
      "execution_count": null,
      "id": "5ed982a9",
      "metadata": {
        "id": "5ed982a9"
      },
      "outputs": [],
      "source": [
        "corpus = []\n",
        "for i in df[\"text\"]:\n",
        "    corpus.append(i)\n",
        "corpus = corpus[0:5000]"
      ]
    },
    {
      "cell_type": "code",
      "execution_count": null,
      "id": "660abccf",
      "metadata": {
        "colab": {
          "base_uri": "https://localhost:8080/"
        },
        "id": "660abccf",
        "outputId": "c9864eaf-faa2-4734-decb-adc55bbd40b1"
      },
      "outputs": [
        {
          "output_type": "stream",
          "name": "stdout",
          "text": [
            "[nltk_data] Downloading package stopwords to /root/nltk_data...\n",
            "[nltk_data]   Package stopwords is already up-to-date!\n"
          ]
        },
        {
          "output_type": "execute_result",
          "data": {
            "text/plain": [
              "True"
            ]
          },
          "metadata": {},
          "execution_count": 6
        }
      ],
      "source": [
        "import nltk\n",
        "from nltk.corpus import stopwords\n",
        "from nltk.tokenize import word_tokenize\n",
        "nltk.download(\"stopwords\")"
      ]
    },
    {
      "cell_type": "code",
      "execution_count": null,
      "id": "df920fae",
      "metadata": {
        "id": "df920fae"
      },
      "outputs": [],
      "source": [
        "filter = set(stopwords.words(\"english\"))"
      ]
    },
    {
      "cell_type": "code",
      "execution_count": null,
      "id": "0f51d504",
      "metadata": {
        "colab": {
          "base_uri": "https://localhost:8080/",
          "height": 35
        },
        "id": "0f51d504",
        "outputId": "9ead3913-5ffd-486f-8181-32598d82769a"
      },
      "outputs": [
        {
          "output_type": "execute_result",
          "data": {
            "application/vnd.google.colaboratory.intrinsic+json": {
              "type": "string"
            },
            "text/plain": [
              "'legal husband rape wife '"
            ]
          },
          "metadata": {},
          "execution_count": 8
        }
      ],
      "source": [
        "final_corpus = []\n",
        "for i in corpus:\n",
        "    app_str = \"\"\n",
        "    for x in i.split(\" \"):\n",
        "      if x.lower() not in filter:\n",
        "        app_str = app_str + x + \" \"\n",
        "    final_corpus.append(app_str.lower())\n",
        "final_corpus[0]\n"
      ]
    },
    {
      "cell_type": "code",
      "execution_count": null,
      "id": "ea4f7a4f",
      "metadata": {
        "id": "ea4f7a4f"
      },
      "outputs": [],
      "source": [
        "from sklearn.feature_extraction.text import CountVectorizer\n",
        "vectorizer = CountVectorizer(analyzer=\"word\",ngram_range=(1,3))\n",
        "X = vectorizer.fit_transform(corpus)"
      ]
    },
    {
      "cell_type": "code",
      "execution_count": null,
      "id": "a5fc4a8f",
      "metadata": {
        "id": "a5fc4a8f",
        "scrolled": true
      },
      "outputs": [],
      "source": [
        "xDense = X.todense()\n",
        "xDenseList=xDense.tolist()"
      ]
    },
    {
      "cell_type": "code",
      "execution_count": null,
      "id": "1b01455e",
      "metadata": {
        "colab": {
          "base_uri": "https://localhost:8080/"
        },
        "id": "1b01455e",
        "outputId": "c627a530-c3a4-4991-8b76-d70525d798a6"
      },
      "outputs": [
        {
          "output_type": "stream",
          "name": "stderr",
          "text": [
            "/usr/local/lib/python3.7/dist-packages/sklearn/utils/deprecation.py:87: FutureWarning: Function get_feature_names is deprecated; get_feature_names is deprecated in 1.0 and will be removed in 1.2. Please use get_feature_names_out instead.\n",
            "  warnings.warn(msg, category=FutureWarning)\n"
          ]
        }
      ],
      "source": [
        "features = vectorizer.get_feature_names()\n",
        "df2 = pd.DataFrame(xDenseList,columns=features)"
      ]
    },
    {
      "cell_type": "code",
      "execution_count": null,
      "id": "cfaf75dc",
      "metadata": {
        "id": "cfaf75dc"
      },
      "outputs": [],
      "source": [
        "df = df[0:5000]\n",
        "df2[\"Label\"] = list(df.label)"
      ]
    },
    {
      "cell_type": "code",
      "execution_count": null,
      "id": "3c864be1",
      "metadata": {
        "id": "3c864be1"
      },
      "outputs": [],
      "source": [
        "x_train = df2.sample(frac=0.9,random_state=0)"
      ]
    },
    {
      "cell_type": "code",
      "execution_count": null,
      "id": "XQTycIa0UlaG",
      "metadata": {
        "id": "XQTycIa0UlaG"
      },
      "outputs": [],
      "source": [
        "x_test = df2.drop(x_train.index)"
      ]
    },
    {
      "cell_type": "code",
      "execution_count": null,
      "id": "JOvBqYXlUr8G",
      "metadata": {
        "id": "JOvBqYXlUr8G"
      },
      "outputs": [],
      "source": [
        "df_hate = df2[df2.Label==1]\n",
        "df_nothate = df2[df2.Label==0]"
      ]
    },
    {
      "cell_type": "code",
      "execution_count": null,
      "id": "tQJugh_vVqzs",
      "metadata": {
        "id": "tQJugh_vVqzs"
      },
      "outputs": [],
      "source": [
        "x_train = df_hate.sample(frac=0.9,random_state=0)\n",
        "y_train = df_nothate.sample(frac=0.9,random_state=0)"
      ]
    },
    {
      "cell_type": "code",
      "execution_count": null,
      "id": "Vx4cQInhWDBb",
      "metadata": {
        "id": "Vx4cQInhWDBb"
      },
      "outputs": [],
      "source": [
        "x_test = df_hate.drop(x_train.index)\n",
        "y_test = df_nothate.drop(y_train.index)"
      ]
    },
    {
      "cell_type": "code",
      "execution_count": null,
      "id": "DTY3A5pZW4cC",
      "metadata": {
        "id": "DTY3A5pZW4cC"
      },
      "outputs": [],
      "source": [
        "x_train_df = pd.concat([x_train,y_train],axis=0)"
      ]
    },
    {
      "cell_type": "code",
      "execution_count": null,
      "id": "My7QmMQfW4xC",
      "metadata": {
        "id": "My7QmMQfW4xC"
      },
      "outputs": [],
      "source": [
        "x_train_text = x_train_df.drop([\"Label\"],axis=1)"
      ]
    },
    {
      "cell_type": "code",
      "execution_count": null,
      "id": "EvkZC2-7W5CT",
      "metadata": {
        "id": "EvkZC2-7W5CT"
      },
      "outputs": [],
      "source": [
        "y_train_label = list(x_train_df.Label)"
      ]
    },
    {
      "cell_type": "code",
      "execution_count": null,
      "id": "V9gfd0xFW5Yn",
      "metadata": {
        "id": "V9gfd0xFW5Yn"
      },
      "outputs": [],
      "source": [
        "x_test_df = pd.concat([x_test,y_test],axis=0)"
      ]
    },
    {
      "cell_type": "code",
      "execution_count": null,
      "id": "P1Oz826uX_b5",
      "metadata": {
        "id": "P1Oz826uX_b5"
      },
      "outputs": [],
      "source": [
        "x_test_text = x_test_df.drop([\"Label\"],axis=1)\n",
        "y_test_label = x_test_df.Label"
      ]
    },
    {
      "cell_type": "code",
      "execution_count": null,
      "id": "X3RWeXv4X_wh",
      "metadata": {
        "colab": {
          "base_uri": "https://localhost:8080/"
        },
        "id": "X3RWeXv4X_wh",
        "outputId": "81a9cff0-8f7b-4693-8043-4b3ecb661b08"
      },
      "outputs": [
        {
          "output_type": "execute_result",
          "data": {
            "text/plain": [
              "LogisticRegression()"
            ]
          },
          "metadata": {},
          "execution_count": 23
        }
      ],
      "source": [
        "from sklearn.linear_model import LogisticRegression\n",
        "logreg=LogisticRegression()\n",
        "logreg.fit(x_train_text,y_train_label)"
      ]
    },
    {
      "cell_type": "code",
      "execution_count": null,
      "id": "FBrAE_F4YAC3",
      "metadata": {
        "colab": {
          "base_uri": "https://localhost:8080/"
        },
        "id": "FBrAE_F4YAC3",
        "outputId": "f8d79b52-3ab2-426b-ac8b-e93dfb31fd19",
        "scrolled": true
      },
      "outputs": [
        {
          "output_type": "execute_result",
          "data": {
            "text/plain": [
              "0.938"
            ]
          },
          "metadata": {},
          "execution_count": 24
        }
      ],
      "source": [
        "predict=logreg.predict(x_test_text)\n",
        "from sklearn.metrics import accuracy_score\n",
        "accuracy_score(y_test_label,predict)\n"
      ]
    },
    {
      "cell_type": "code",
      "execution_count": null,
      "id": "b158da55",
      "metadata": {
        "id": "b158da55"
      },
      "outputs": [],
      "source": [
        "from sklearn.naive_bayes import GaussianNB"
      ]
    },
    {
      "cell_type": "code",
      "execution_count": null,
      "id": "b69bcfe4",
      "metadata": {
        "id": "b69bcfe4"
      },
      "outputs": [],
      "source": [
        "gnb = GaussianNB()"
      ]
    },
    {
      "cell_type": "code",
      "execution_count": null,
      "id": "64c88eb6",
      "metadata": {
        "colab": {
          "base_uri": "https://localhost:8080/"
        },
        "id": "64c88eb6",
        "outputId": "af9bca4a-7b77-4f8a-e7ab-4f217a14081d"
      },
      "outputs": [
        {
          "output_type": "execute_result",
          "data": {
            "text/plain": [
              "GaussianNB()"
            ]
          },
          "metadata": {},
          "execution_count": 27
        }
      ],
      "source": [
        "gnb.fit(x_train_text,y_train_label)"
      ]
    },
    {
      "cell_type": "code",
      "execution_count": null,
      "id": "44f4f51c",
      "metadata": {
        "colab": {
          "base_uri": "https://localhost:8080/"
        },
        "id": "44f4f51c",
        "outputId": "ffa43349-8a9c-408f-ad92-8387cf713d1e"
      },
      "outputs": [
        {
          "output_type": "execute_result",
          "data": {
            "text/plain": [
              "0.946"
            ]
          },
          "metadata": {},
          "execution_count": 28
        }
      ],
      "source": [
        "predictGNB = gnb.predict(x_test_text)\n",
        "accuracy_score(y_test_label,predictGNB)"
      ]
    },
    {
      "cell_type": "code",
      "execution_count": null,
      "id": "c9332b7b",
      "metadata": {
        "id": "c9332b7b"
      },
      "outputs": [],
      "source": [
        "from sklearn.tree import DecisionTreeClassifier\n",
        "from sklearn.ensemble import RandomForestClassifier"
      ]
    },
    {
      "cell_type": "code",
      "execution_count": null,
      "id": "beb2a654",
      "metadata": {
        "id": "beb2a654"
      },
      "outputs": [],
      "source": [
        "rfc = RandomForestClassifier(max_depth=2,random_state=0)"
      ]
    },
    {
      "cell_type": "code",
      "execution_count": null,
      "id": "6f3644e1",
      "metadata": {
        "colab": {
          "base_uri": "https://localhost:8080/"
        },
        "id": "6f3644e1",
        "outputId": "ebb02a88-4fd1-4fb5-8cdf-a759706cd9c8"
      },
      "outputs": [
        {
          "output_type": "execute_result",
          "data": {
            "text/plain": [
              "RandomForestClassifier(max_depth=2, random_state=0)"
            ]
          },
          "metadata": {},
          "execution_count": 31
        }
      ],
      "source": [
        "rfc.fit(x_train_text,y_train_label)"
      ]
    },
    {
      "cell_type": "code",
      "execution_count": null,
      "id": "a82e1354",
      "metadata": {
        "colab": {
          "base_uri": "https://localhost:8080/"
        },
        "id": "a82e1354",
        "outputId": "c5c41186-5c8e-4c3d-9571-fd4f7b935d27"
      },
      "outputs": [
        {
          "output_type": "execute_result",
          "data": {
            "text/plain": [
              "0.666"
            ]
          },
          "metadata": {},
          "execution_count": 32
        }
      ],
      "source": [
        "predictRFC = rfc.predict(x_test_text)\n",
        "accuracy_score(y_test_label,predictRFC)"
      ]
    },
    {
      "cell_type": "code",
      "execution_count": null,
      "id": "17e83b2c",
      "metadata": {
        "id": "17e83b2c"
      },
      "outputs": [],
      "source": [
        "import pickle\n",
        "with open(\"model_gnb\",\"wb\") as f:\n",
        "    pickle.dump(gnb,f)"
      ]
    },
    {
      "cell_type": "code",
      "execution_count": null,
      "id": "fef412d8",
      "metadata": {
        "id": "fef412d8"
      },
      "outputs": [],
      "source": [
        "import pickle\n",
        "with open(\"model_rfc\",\"wb\") as f:\n",
        "    pickle.dump(rfc,f)"
      ]
    },
    {
      "cell_type": "code",
      "execution_count": null,
      "id": "d9e80534",
      "metadata": {
        "id": "d9e80534"
      },
      "outputs": [],
      "source": [
        "from sklearn.naive_bayes import MultinomialNB"
      ]
    },
    {
      "cell_type": "code",
      "execution_count": null,
      "id": "683d3dee",
      "metadata": {
        "colab": {
          "base_uri": "https://localhost:8080/"
        },
        "id": "683d3dee",
        "outputId": "9ec18f29-7f3f-4aba-914a-410fbff6f303"
      },
      "outputs": [
        {
          "output_type": "execute_result",
          "data": {
            "text/plain": [
              "0.944"
            ]
          },
          "metadata": {},
          "execution_count": 36
        }
      ],
      "source": [
        "mnb = MultinomialNB()\n",
        "mnb.fit(x_train_text,y_train_label)\n",
        "predictMNB = mnb.predict(x_test_text)\n",
        "accuracy_score(y_test_label,predictMNB)"
      ]
    },
    {
      "cell_type": "code",
      "execution_count": null,
      "id": "63cae6ff",
      "metadata": {
        "id": "63cae6ff"
      },
      "outputs": [],
      "source": [
        "import pickle\n",
        "with open(\"model_mnb\",\"wb\") as f:\n",
        "    pickle.dump(rfc,f)"
      ]
    },
    {
      "cell_type": "code",
      "execution_count": null,
      "id": "b0c8c327",
      "metadata": {
        "id": "b0c8c327"
      },
      "outputs": [],
      "source": [
        "import pickle\n",
        "with open(\"model_lr\",\"wb\") as f:\n",
        "    pickle.dump(logreg,f)"
      ]
    },
    {
      "cell_type": "code",
      "execution_count": null,
      "id": "f8c56acb",
      "metadata": {
        "colab": {
          "base_uri": "https://localhost:8080/"
        },
        "id": "f8c56acb",
        "outputId": "279618e5-6dae-46b0-f5d4-fbf9c650756f"
      },
      "outputs": [
        {
          "output_type": "stream",
          "name": "stdout",
          "text": [
            "0.944\n",
            "0.666\n",
            "0.946\n",
            "0.938\n"
          ]
        }
      ],
      "source": [
        "print(accuracy_score(y_test_label,predictMNB))\n",
        "print(accuracy_score(y_test_label,predictRFC))\n",
        "print(accuracy_score(y_test_label,predictGNB))\n",
        "print(accuracy_score(y_test_label,predict)) #logisticRegression"
      ]
    },
    {
      "cell_type": "code",
      "source": [
        "from sklearn.ensemble import *"
      ],
      "metadata": {
        "id": "PbPMfMEArTmk"
      },
      "id": "PbPMfMEArTmk",
      "execution_count": null,
      "outputs": []
    },
    {
      "cell_type": "code",
      "source": [
        "estimators = [(\"Multinomial Naive Bayes\",mnb),(\"Gaussian Naive Bayes\",gnb),(\"Logistic Regression\",logreg)]\n",
        "ensemble = VotingClassifier(estimators, voting=\"soft\")\n",
        "ensemble.fit(x_train_text,y_train_label)\n",
        "predictENS = ensemble.predict(x_test_text)\n",
        "accuracy_score(y_test_label,predictENS)"
      ],
      "metadata": {
        "colab": {
          "base_uri": "https://localhost:8080/"
        },
        "id": "ePPrPvz4r8Vy",
        "outputId": "53310193-d972-48e1-ef2f-78a1588c02de"
      },
      "id": "ePPrPvz4r8Vy",
      "execution_count": null,
      "outputs": [
        {
          "output_type": "execute_result",
          "data": {
            "text/plain": [
              "0.952"
            ]
          },
          "metadata": {},
          "execution_count": 46
        }
      ]
    },
    {
      "cell_type": "code",
      "source": [
        "with open(\"model_ens\",\"wb\") as f:\n",
        "    pickle.dump(ensemble,f)"
      ],
      "metadata": {
        "id": "te8bxiRYtJEm"
      },
      "id": "te8bxiRYtJEm",
      "execution_count": 65,
      "outputs": []
    },
    {
      "cell_type": "code",
      "source": [
        "input1=[\"i hate my phone\"]\n",
        "vtz = CountVectorizer(analyzer=\"word\",ngram_range=(1,3))\n",
        "tvtz = vtz.fit_transform(input1)\n",
        "newDf = pd.DataFrame(tvtz.todense().tolist(),columns=vtz.get_feature_names())\n",
        "predDf = x_train_text[0:0]\n",
        "\n",
        "li = []\n",
        "for i in predDf.columns:\n",
        "  if i in newDf.columns:\n",
        "    li.append(newDf[i])\n",
        "  else:\n",
        "    li.append(0.0)\n",
        "\n",
        "predDf.loc[0] = li\n",
        "if(ensemble.predict(predDf)[0]):\n",
        "  print(\"Hateful!\")\n",
        "else:\n",
        "  print(\"No hate was detected\")"
      ],
      "metadata": {
        "colab": {
          "base_uri": "https://localhost:8080/"
        },
        "id": "HNeuCCrbtsYD",
        "outputId": "d5a8237b-f64c-49d6-e20a-459d384d0cd7"
      },
      "id": "HNeuCCrbtsYD",
      "execution_count": null,
      "outputs": [
        {
          "output_type": "stream",
          "name": "stderr",
          "text": [
            "/usr/local/lib/python3.7/dist-packages/sklearn/utils/deprecation.py:87: FutureWarning: Function get_feature_names is deprecated; get_feature_names is deprecated in 1.0 and will be removed in 1.2. Please use get_feature_names_out instead.\n",
            "  warnings.warn(msg, category=FutureWarning)\n",
            "/usr/local/lib/python3.7/dist-packages/numpy/core/_asarray.py:83: VisibleDeprecationWarning: Creating an ndarray from ragged nested sequences (which is a list-or-tuple of lists-or-tuples-or ndarrays with different lengths or shapes) is deprecated. If you meant to do this, you must specify 'dtype=object' when creating the ndarray\n",
            "  return array(a, dtype, copy=False, order=order)\n",
            "/usr/local/lib/python3.7/dist-packages/pandas/core/indexing.py:723: SettingWithCopyWarning: \n",
            "A value is trying to be set on a copy of a slice from a DataFrame\n",
            "\n",
            "See the caveats in the documentation: https://pandas.pydata.org/pandas-docs/stable/user_guide/indexing.html#returning-a-view-versus-a-copy\n",
            "  iloc._setitem_with_indexer(indexer, value, self.name)\n"
          ]
        },
        {
          "output_type": "stream",
          "name": "stdout",
          "text": [
            "No hate was detected\n"
          ]
        }
      ]
    },
    {
      "cell_type": "code",
      "source": [
        "xpickle = x_train_text[0:0]\n",
        "with open(\"train\",\"wb\") as f:\n",
        "  pickle.dump(xpickle,f)"
      ],
      "metadata": {
        "id": "ArstVETXDQ9i"
      },
      "id": "ArstVETXDQ9i",
      "execution_count": 64,
      "outputs": []
    }
  ],
  "metadata": {
    "colab": {
      "collapsed_sections": [],
      "name": "main (2).ipynb",
      "provenance": []
    },
    "kernelspec": {
      "display_name": "Python 3 (ipykernel)",
      "language": "python",
      "name": "python3"
    },
    "language_info": {
      "codemirror_mode": {
        "name": "ipython",
        "version": 3
      },
      "file_extension": ".py",
      "mimetype": "text/x-python",
      "name": "python",
      "nbconvert_exporter": "python",
      "pygments_lexer": "ipython3",
      "version": "3.9.7"
    }
  },
  "nbformat": 4,
  "nbformat_minor": 5
}