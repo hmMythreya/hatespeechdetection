{
  "cells": [
    {
      "cell_type": "code",
      "execution_count": 1,
      "id": "555c13b2",
      "metadata": {
        "id": "555c13b2"
      },
      "outputs": [],
      "source": [
        "from sklearn import linear_model\n",
        "from sklearn import naive_bayes\n",
        "from sklearn import ensemble\n",
        "from sklearn import tree\n",
        "import pandas as pd\n",
        "import numpy as np\n",
        "from sklearn.feature_extraction.text import TfidfVectorizer"
      ]
    },
    {
      "cell_type": "code",
      "execution_count": 2,
      "id": "237337ff",
      "metadata": {
        "id": "237337ff"
      },
      "outputs": [],
      "source": [
        "df = pd.DataFrame(pd.read_csv(\"40k_modified.csv\"))"
      ]
    },
    {
      "cell_type": "code",
      "execution_count": 3,
      "id": "1818733b",
      "metadata": {
        "id": "1818733b"
      },
      "outputs": [],
      "source": [
        "df.columns = [\"ind\",\"text\",\"label\"]"
      ]
    },
    {
      "cell_type": "code",
      "execution_count": 4,
      "id": "3abcc71e",
      "metadata": {
        "id": "3abcc71e"
      },
      "outputs": [],
      "source": [
        "df = df.drop(columns=[\"ind\"])"
      ]
    },
    {
      "cell_type": "code",
      "execution_count": 5,
      "id": "5ed982a9",
      "metadata": {
        "id": "5ed982a9"
      },
      "outputs": [],
      "source": [
        "corpus = []\n",
        "for i in df[\"text\"]:\n",
        "    corpus.append(i)\n",
        "corpus = corpus[0:10000]"
      ]
    },
    {
      "cell_type": "code",
      "execution_count": 6,
      "id": "660abccf",
      "metadata": {
        "colab": {
          "base_uri": "https://localhost:8080/"
        },
        "id": "660abccf",
        "outputId": "9e220b3c-258e-45d0-a830-53690719ac22"
      },
      "outputs": [
        {
          "output_type": "stream",
          "name": "stdout",
          "text": [
            "[nltk_data] Downloading package stopwords to /root/nltk_data...\n",
            "[nltk_data]   Package stopwords is already up-to-date!\n"
          ]
        },
        {
          "output_type": "execute_result",
          "data": {
            "text/plain": [
              "True"
            ]
          },
          "metadata": {},
          "execution_count": 6
        }
      ],
      "source": [
        "import nltk\n",
        "from nltk.corpus import stopwords\n",
        "from nltk.tokenize import word_tokenize\n",
        "nltk.download(\"stopwords\")"
      ]
    },
    {
      "cell_type": "code",
      "execution_count": 7,
      "id": "df920fae",
      "metadata": {
        "id": "df920fae"
      },
      "outputs": [],
      "source": [
        "filter = set(stopwords.words(\"english\"))"
      ]
    },
    {
      "cell_type": "code",
      "execution_count": 8,
      "id": "0f51d504",
      "metadata": {
        "colab": {
          "base_uri": "https://localhost:8080/",
          "height": 35
        },
        "id": "0f51d504",
        "outputId": "e5e8218a-3d47-4812-b509-075ad0a0c479"
      },
      "outputs": [
        {
          "output_type": "execute_result",
          "data": {
            "application/vnd.google.colaboratory.intrinsic+json": {
              "type": "string"
            },
            "text/plain": [
              "'legal husband rape wife '"
            ]
          },
          "metadata": {},
          "execution_count": 8
        }
      ],
      "source": [
        "final_corpus = []\n",
        "for i in corpus:\n",
        "    app_str = \"\"\n",
        "    for x in i.split(\" \"):\n",
        "      if x.lower() not in filter:\n",
        "        app_str = app_str + x + \" \"\n",
        "    final_corpus.append(app_str.lower())\n",
        "final_corpus[0]\n"
      ]
    },
    {
      "cell_type": "code",
      "execution_count": 9,
      "id": "ea4f7a4f",
      "metadata": {
        "id": "ea4f7a4f"
      },
      "outputs": [],
      "source": [
        "vectorizer = TfidfVectorizer()\n",
        "X = vectorizer.fit_transform(final_corpus)"
      ]
    },
    {
      "cell_type": "code",
      "execution_count": 10,
      "id": "a5fc4a8f",
      "metadata": {
        "scrolled": true,
        "id": "a5fc4a8f"
      },
      "outputs": [],
      "source": [
        "xDense = X.todense()\n",
        "xDenseList=xDense.tolist()"
      ]
    },
    {
      "cell_type": "code",
      "execution_count": 11,
      "id": "1b01455e",
      "metadata": {
        "colab": {
          "base_uri": "https://localhost:8080/"
        },
        "id": "1b01455e",
        "outputId": "ad427bc8-2206-41b7-9673-cb5f7ed68dcd"
      },
      "outputs": [
        {
          "output_type": "stream",
          "name": "stderr",
          "text": [
            "/usr/local/lib/python3.7/dist-packages/sklearn/utils/deprecation.py:87: FutureWarning: Function get_feature_names is deprecated; get_feature_names is deprecated in 1.0 and will be removed in 1.2. Please use get_feature_names_out instead.\n",
            "  warnings.warn(msg, category=FutureWarning)\n"
          ]
        }
      ],
      "source": [
        "features = vectorizer.get_feature_names()\n",
        "df2 = pd.DataFrame(xDenseList,columns=features)"
      ]
    },
    {
      "cell_type": "code",
      "execution_count": 12,
      "id": "cfaf75dc",
      "metadata": {
        "id": "cfaf75dc"
      },
      "outputs": [],
      "source": [
        "df = df[0:10000]\n",
        "df2[\"Label\"] = list(df.label)"
      ]
    },
    {
      "cell_type": "code",
      "execution_count": 13,
      "id": "3c864be1",
      "metadata": {
        "id": "3c864be1"
      },
      "outputs": [],
      "source": [
        "x_train = df2.sample(frac=0.9,random_state=0)"
      ]
    },
    {
      "cell_type": "code",
      "source": [
        "x_test = df2.drop(x_train.index)"
      ],
      "metadata": {
        "id": "XQTycIa0UlaG"
      },
      "id": "XQTycIa0UlaG",
      "execution_count": 14,
      "outputs": []
    },
    {
      "cell_type": "code",
      "source": [
        "df_hate = df2[df2.Label==1]\n",
        "df_nothate = df2[df2.Label==0]"
      ],
      "metadata": {
        "id": "JOvBqYXlUr8G"
      },
      "id": "JOvBqYXlUr8G",
      "execution_count": 15,
      "outputs": []
    },
    {
      "cell_type": "code",
      "source": [
        "x_train = df_hate.sample(frac=0.9,random_state=0)\n",
        "y_train = df_nothate.sample(frac=0.9,random_state=0)"
      ],
      "metadata": {
        "id": "tQJugh_vVqzs"
      },
      "id": "tQJugh_vVqzs",
      "execution_count": 20,
      "outputs": []
    },
    {
      "cell_type": "code",
      "source": [
        "x_test = df_hate.drop(x_train.index)\n",
        "y_test = df_nothate.drop(y_train.index)"
      ],
      "metadata": {
        "id": "Vx4cQInhWDBb"
      },
      "id": "Vx4cQInhWDBb",
      "execution_count": 24,
      "outputs": []
    },
    {
      "cell_type": "code",
      "source": [
        "x_train_df = pd.concat([x_train,y_train],axis=0)"
      ],
      "metadata": {
        "id": "DTY3A5pZW4cC"
      },
      "id": "DTY3A5pZW4cC",
      "execution_count": 25,
      "outputs": []
    },
    {
      "cell_type": "code",
      "source": [
        "x_train_text = x_train_df.drop([\"Label\"],axis=1)"
      ],
      "metadata": {
        "id": "My7QmMQfW4xC"
      },
      "id": "My7QmMQfW4xC",
      "execution_count": 26,
      "outputs": []
    },
    {
      "cell_type": "code",
      "source": [
        "y_train_label = list(x_train_df.Label)"
      ],
      "metadata": {
        "id": "EvkZC2-7W5CT"
      },
      "id": "EvkZC2-7W5CT",
      "execution_count": 27,
      "outputs": []
    },
    {
      "cell_type": "code",
      "source": [
        "x_test_df = pd.concat([x_test,y_test],axis=0)"
      ],
      "metadata": {
        "id": "V9gfd0xFW5Yn"
      },
      "id": "V9gfd0xFW5Yn",
      "execution_count": 28,
      "outputs": []
    },
    {
      "cell_type": "code",
      "source": [
        "x_test_text = x_test_df.drop([\"Label\"],axis=1)\n",
        "y_test_label = x_test_df.Label"
      ],
      "metadata": {
        "id": "P1Oz826uX_b5"
      },
      "id": "P1Oz826uX_b5",
      "execution_count": 30,
      "outputs": []
    },
    {
      "cell_type": "code",
      "source": [
        ""
      ],
      "metadata": {
        "id": "X3RWeXv4X_wh"
      },
      "id": "X3RWeXv4X_wh",
      "execution_count": null,
      "outputs": []
    },
    {
      "cell_type": "code",
      "source": [
        ""
      ],
      "metadata": {
        "id": "FBrAE_F4YAC3"
      },
      "id": "FBrAE_F4YAC3",
      "execution_count": null,
      "outputs": []
    }
  ],
  "metadata": {
    "kernelspec": {
      "display_name": "Python 3 (ipykernel)",
      "language": "python",
      "name": "python3"
    },
    "language_info": {
      "codemirror_mode": {
        "name": "ipython",
        "version": 3
      },
      "file_extension": ".py",
      "mimetype": "text/x-python",
      "name": "python",
      "nbconvert_exporter": "python",
      "pygments_lexer": "ipython3",
      "version": "3.9.7"
    },
    "colab": {
      "name": "main.ipynb",
      "provenance": [],
      "collapsed_sections": []
    }
  },
  "nbformat": 4,
  "nbformat_minor": 5
}