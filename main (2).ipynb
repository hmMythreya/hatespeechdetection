{
 "cells": [
  {
   "cell_type": "code",
   "execution_count": 2,
   "id": "555c13b2",
   "metadata": {
    "id": "555c13b2"
   },
   "outputs": [],
   "source": [
    "from sklearn import linear_model\n",
    "from sklearn import naive_bayes\n",
    "from sklearn import ensemble\n",
    "from sklearn import tree\n",
    "import pandas as pd\n",
    "import numpy as np\n",
    "from sklearn.feature_extraction.text import TfidfVectorizer"
   ]
  },
  {
   "cell_type": "code",
   "execution_count": 3,
   "id": "237337ff",
   "metadata": {
    "id": "237337ff"
   },
   "outputs": [],
   "source": [
    "df = pd.DataFrame(pd.read_csv(\"40k_modified.csv\"))"
   ]
  },
  {
   "cell_type": "code",
   "execution_count": 4,
   "id": "1818733b",
   "metadata": {
    "id": "1818733b"
   },
   "outputs": [],
   "source": [
    "df.columns = [\"ind\",\"text\",\"label\"]"
   ]
  },
  {
   "cell_type": "code",
   "execution_count": 5,
   "id": "3abcc71e",
   "metadata": {
    "id": "3abcc71e"
   },
   "outputs": [],
   "source": [
    "df = df.drop(columns=[\"ind\"])"
   ]
  },
  {
   "cell_type": "code",
   "execution_count": 6,
   "id": "5ed982a9",
   "metadata": {
    "id": "5ed982a9"
   },
   "outputs": [],
   "source": [
    "corpus = []\n",
    "for i in df[\"text\"]:\n",
    "    corpus.append(i)\n",
    "corpus = corpus[0:10000]"
   ]
  },
  {
   "cell_type": "code",
   "execution_count": 7,
   "id": "660abccf",
   "metadata": {
    "colab": {
     "base_uri": "https://localhost:8080/"
    },
    "id": "660abccf",
    "outputId": "4773b362-0d95-4411-ee01-0f1d648e066b"
   },
   "outputs": [
    {
     "name": "stderr",
     "output_type": "stream",
     "text": [
      "[nltk_data] Downloading package stopwords to\n",
      "[nltk_data]     C:\\Users\\Madhu\\AppData\\Roaming\\nltk_data...\n",
      "[nltk_data]   Package stopwords is already up-to-date!\n"
     ]
    },
    {
     "data": {
      "text/plain": [
       "True"
      ]
     },
     "execution_count": 7,
     "metadata": {},
     "output_type": "execute_result"
    }
   ],
   "source": [
    "import nltk\n",
    "from nltk.corpus import stopwords\n",
    "from nltk.tokenize import word_tokenize\n",
    "nltk.download(\"stopwords\")"
   ]
  },
  {
   "cell_type": "code",
   "execution_count": 8,
   "id": "df920fae",
   "metadata": {
    "id": "df920fae"
   },
   "outputs": [],
   "source": [
    "filter = set(stopwords.words(\"english\"))"
   ]
  },
  {
   "cell_type": "code",
   "execution_count": 9,
   "id": "0f51d504",
   "metadata": {
    "colab": {
     "base_uri": "https://localhost:8080/",
     "height": 35
    },
    "id": "0f51d504",
    "outputId": "092a5271-cc10-44c1-efa6-a6398f6d4154"
   },
   "outputs": [
    {
     "data": {
      "text/plain": [
       "'legal husband rape wife '"
      ]
     },
     "execution_count": 9,
     "metadata": {},
     "output_type": "execute_result"
    }
   ],
   "source": [
    "final_corpus = []\n",
    "for i in corpus:\n",
    "    app_str = \"\"\n",
    "    for x in i.split(\" \"):\n",
    "      if x.lower() not in filter:\n",
    "        app_str = app_str + x + \" \"\n",
    "    final_corpus.append(app_str.lower())\n",
    "final_corpus[0]\n"
   ]
  },
  {
   "cell_type": "code",
   "execution_count": 43,
   "id": "ea4f7a4f",
   "metadata": {
    "id": "ea4f7a4f"
   },
   "outputs": [],
   "source": [
    "from sklearn.feature_extraction.text import CountVectorizer\n",
    "vectorizer = CountVectorizer()\n",
    "X = vectorizer.fit_transform(corpus)"
   ]
  },
  {
   "cell_type": "code",
   "execution_count": 44,
   "id": "a5fc4a8f",
   "metadata": {
    "id": "a5fc4a8f",
    "scrolled": true
   },
   "outputs": [],
   "source": [
    "xDense = X.todense()\n",
    "xDenseList=xDense.tolist()"
   ]
  },
  {
   "cell_type": "code",
   "execution_count": 45,
   "id": "1b01455e",
   "metadata": {
    "colab": {
     "base_uri": "https://localhost:8080/"
    },
    "id": "1b01455e",
    "outputId": "640ee7cd-3f4d-41e9-957b-5dea76e2adcf"
   },
   "outputs": [],
   "source": [
    "features = vectorizer.get_feature_names()\n",
    "df2 = pd.DataFrame(xDenseList,columns=features)"
   ]
  },
  {
   "cell_type": "code",
   "execution_count": 46,
   "id": "cfaf75dc",
   "metadata": {
    "id": "cfaf75dc"
   },
   "outputs": [],
   "source": [
    "df = df[0:10000]\n",
    "df2[\"Label\"] = list(df.label)"
   ]
  },
  {
   "cell_type": "code",
   "execution_count": 47,
   "id": "3c864be1",
   "metadata": {
    "id": "3c864be1"
   },
   "outputs": [],
   "source": [
    "x_train = df2.sample(frac=0.9,random_state=0)"
   ]
  },
  {
   "cell_type": "code",
   "execution_count": 48,
   "id": "XQTycIa0UlaG",
   "metadata": {
    "id": "XQTycIa0UlaG"
   },
   "outputs": [],
   "source": [
    "x_test = df2.drop(x_train.index)"
   ]
  },
  {
   "cell_type": "code",
   "execution_count": 49,
   "id": "JOvBqYXlUr8G",
   "metadata": {
    "id": "JOvBqYXlUr8G"
   },
   "outputs": [],
   "source": [
    "df_hate = df2[df2.Label==1]\n",
    "df_nothate = df2[df2.Label==0]"
   ]
  },
  {
   "cell_type": "code",
   "execution_count": 50,
   "id": "tQJugh_vVqzs",
   "metadata": {
    "id": "tQJugh_vVqzs"
   },
   "outputs": [],
   "source": [
    "x_train = df_hate.sample(frac=0.9,random_state=0)\n",
    "y_train = df_nothate.sample(frac=0.9,random_state=0)"
   ]
  },
  {
   "cell_type": "code",
   "execution_count": 51,
   "id": "Vx4cQInhWDBb",
   "metadata": {
    "id": "Vx4cQInhWDBb"
   },
   "outputs": [],
   "source": [
    "x_test = df_hate.drop(x_train.index)\n",
    "y_test = df_nothate.drop(y_train.index)"
   ]
  },
  {
   "cell_type": "code",
   "execution_count": 52,
   "id": "DTY3A5pZW4cC",
   "metadata": {
    "id": "DTY3A5pZW4cC"
   },
   "outputs": [],
   "source": [
    "x_train_df = pd.concat([x_train,y_train],axis=0)"
   ]
  },
  {
   "cell_type": "code",
   "execution_count": 53,
   "id": "My7QmMQfW4xC",
   "metadata": {
    "id": "My7QmMQfW4xC"
   },
   "outputs": [],
   "source": [
    "x_train_text = x_train_df.drop([\"Label\"],axis=1)"
   ]
  },
  {
   "cell_type": "code",
   "execution_count": 54,
   "id": "EvkZC2-7W5CT",
   "metadata": {
    "id": "EvkZC2-7W5CT"
   },
   "outputs": [],
   "source": [
    "y_train_label = list(x_train_df.Label)"
   ]
  },
  {
   "cell_type": "code",
   "execution_count": 55,
   "id": "V9gfd0xFW5Yn",
   "metadata": {
    "id": "V9gfd0xFW5Yn"
   },
   "outputs": [],
   "source": [
    "x_test_df = pd.concat([x_test,y_test],axis=0)"
   ]
  },
  {
   "cell_type": "code",
   "execution_count": 56,
   "id": "P1Oz826uX_b5",
   "metadata": {
    "id": "P1Oz826uX_b5"
   },
   "outputs": [],
   "source": [
    "x_test_text = x_test_df.drop([\"Label\"],axis=1)\n",
    "y_test_label = x_test_df.Label"
   ]
  },
  {
   "cell_type": "code",
   "execution_count": 57,
   "id": "X3RWeXv4X_wh",
   "metadata": {
    "colab": {
     "base_uri": "https://localhost:8080/"
    },
    "id": "X3RWeXv4X_wh",
    "outputId": "82c02151-315c-40bd-a0f0-2d18c91a25fa"
   },
   "outputs": [
    {
     "name": "stderr",
     "output_type": "stream",
     "text": [
      "C:\\Users\\Madhu\\anaconda3\\lib\\site-packages\\sklearn\\linear_model\\_logistic.py:763: ConvergenceWarning: lbfgs failed to converge (status=1):\n",
      "STOP: TOTAL NO. of ITERATIONS REACHED LIMIT.\n",
      "\n",
      "Increase the number of iterations (max_iter) or scale the data as shown in:\n",
      "    https://scikit-learn.org/stable/modules/preprocessing.html\n",
      "Please also refer to the documentation for alternative solver options:\n",
      "    https://scikit-learn.org/stable/modules/linear_model.html#logistic-regression\n",
      "  n_iter_i = _check_optimize_result(\n"
     ]
    },
    {
     "data": {
      "text/plain": [
       "LogisticRegression()"
      ]
     },
     "execution_count": 57,
     "metadata": {},
     "output_type": "execute_result"
    }
   ],
   "source": [
    "from sklearn.linear_model import LogisticRegression\n",
    "logreg=LogisticRegression()\n",
    "logreg.fit(x_train_text,y_train_label)"
   ]
  },
  {
   "cell_type": "code",
   "execution_count": 58,
   "id": "FBrAE_F4YAC3",
   "metadata": {
    "colab": {
     "base_uri": "https://localhost:8080/"
    },
    "id": "FBrAE_F4YAC3",
    "outputId": "b4f431c5-5d3f-4df6-ee25-f493f3a7293d"
   },
   "outputs": [
    {
     "data": {
      "text/plain": [
       "0.832"
      ]
     },
     "execution_count": 58,
     "metadata": {},
     "output_type": "execute_result"
    }
   ],
   "source": [
    "predict=logreg.predict(x_test_text)\n",
    "from sklearn.metrics import accuracy_score\n",
    "accuracy_score(y_test_label,predict)\n"
   ]
  },
  {
   "cell_type": "code",
   "execution_count": null,
   "id": "25236704",
   "metadata": {},
   "outputs": [],
   "source": []
  }
 ],
 "metadata": {
  "colab": {
   "collapsed_sections": [],
   "name": "main.ipynb",
   "provenance": []
  },
  "kernelspec": {
   "display_name": "Python 3 (ipykernel)",
   "language": "python",
   "name": "python3"
  },
  "language_info": {
   "codemirror_mode": {
    "name": "ipython",
    "version": 3
   },
   "file_extension": ".py",
   "mimetype": "text/x-python",
   "name": "python",
   "nbconvert_exporter": "python",
   "pygments_lexer": "ipython3",
   "version": "3.9.7"
  }
 },
 "nbformat": 4,
 "nbformat_minor": 5
}
